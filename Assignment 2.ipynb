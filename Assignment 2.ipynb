{
 "cells": [
  {
   "cell_type": "code",
   "execution_count": 1,
   "id": "27a5b101",
   "metadata": {},
   "outputs": [
    {
     "name": "stdout",
     "output_type": "stream",
     "text": [
      "Defaulting to user installation because normal site-packages is not writeable\n",
      "Requirement already satisfied: scikit-learn in c:\\program files\\conda\\lib\\site-packages (1.0.2)\n",
      "Requirement already satisfied: scipy>=1.1.0 in c:\\program files\\conda\\lib\\site-packages (from scikit-learn) (1.7.3)\n",
      "Requirement already satisfied: threadpoolctl>=2.0.0 in c:\\program files\\conda\\lib\\site-packages (from scikit-learn) (2.2.0)\n",
      "Requirement already satisfied: numpy>=1.14.6 in c:\\program files\\conda\\lib\\site-packages (from scikit-learn) (1.21.5)\n",
      "Requirement already satisfied: joblib>=0.11 in c:\\program files\\conda\\lib\\site-packages (from scikit-learn) (1.1.0)\n"
     ]
    }
   ],
   "source": [
    "!pip install scikit-learn"
   ]
  },
  {
   "cell_type": "code",
   "execution_count": 2,
   "id": "debacbb5",
   "metadata": {},
   "outputs": [],
   "source": [
    "import sklearn as sl"
   ]
  },
  {
   "cell_type": "code",
   "execution_count": 4,
   "id": "abb25da6",
   "metadata": {},
   "outputs": [],
   "source": [
    "from sklearn import datasets"
   ]
  },
  {
   "cell_type": "code",
   "execution_count": 6,
   "id": "419537aa",
   "metadata": {},
   "outputs": [],
   "source": [
    "from sklearn.datasets import fetch_openml"
   ]
  },
  {
   "cell_type": "code",
   "execution_count": 7,
   "id": "b9bab301",
   "metadata": {},
   "outputs": [],
   "source": [
    "mls = fetch_openml(name='autoMpg',version=3)"
   ]
  },
  {
   "cell_type": "code",
   "execution_count": 8,
   "id": "1cd037dd",
   "metadata": {},
   "outputs": [
    {
     "data": {
      "text/plain": [
       "{'id': '42372',\n",
       " 'name': 'autoMpg',\n",
       " 'version': '3',\n",
       " 'description_version': '1',\n",
       " 'format': 'ARFF',\n",
       " 'upload_date': '2020-04-19T21:45:53',\n",
       " 'licence': 'CC0',\n",
       " 'url': 'https://api.openml.org/data/v1/download/21829489/autoMpg.arff',\n",
       " 'parquet_url': 'http://openml1.win.tue.nl/dataset42372/dataset_42372.pq',\n",
       " 'file_id': '21829489',\n",
       " 'default_target_attribute': 'Mpg',\n",
       " 'visibility': 'public',\n",
       " 'original_data_url': 'https://sci2s.ugr.es/keel/dataset.php?cod=80',\n",
       " 'minio_url': 'http://openml1.win.tue.nl/dataset42372/dataset_42372.pq',\n",
       " 'status': 'active',\n",
       " 'processing_date': '2020-04-19 21:46:03',\n",
       " 'md5_checksum': '5a9bcaf902ec9b9ebd97df648a7c41e2'}"
      ]
     },
     "execution_count": 8,
     "metadata": {},
     "output_type": "execute_result"
    }
   ],
   "source": [
    "mls.details"
   ]
  },
  {
   "cell_type": "code",
   "execution_count": 9,
   "id": "8ad2f219",
   "metadata": {},
   "outputs": [
    {
     "name": "stdout",
     "output_type": "stream",
     "text": [
      "dict_keys(['data', 'target', 'frame', 'categories', 'feature_names', 'target_names', 'DESCR', 'details', 'url'])\n"
     ]
    }
   ],
   "source": [
    "print(mls.keys())"
   ]
  },
  {
   "cell_type": "code",
   "execution_count": 10,
   "id": "1c37e692",
   "metadata": {},
   "outputs": [
    {
     "name": "stdout",
     "output_type": "stream",
     "text": [
      "     Displacement  Horse_power  Weight  Acceleration  Model_year\n",
      "0            91.0         70.0  1955.0          20.5        71.0\n",
      "1           232.0        100.0  2789.0          15.0        73.0\n",
      "2           350.0        145.0  4055.0          12.0        76.0\n",
      "3           318.0        140.0  4080.0          13.7        78.0\n",
      "4           113.0         95.0  2372.0          15.0        70.0\n",
      "..            ...          ...     ...           ...         ...\n",
      "387         225.0        105.0  3121.0          16.5        73.0\n",
      "388         454.0        220.0  4354.0           9.0        70.0\n",
      "389          85.0         65.0  1975.0          19.4        81.0\n",
      "390         350.0        165.0  3693.0          11.5        70.0\n",
      "391         307.0        130.0  3504.0          12.0        70.0\n",
      "\n",
      "[392 rows x 5 columns]\n"
     ]
    }
   ],
   "source": [
    "print(mls.data)"
   ]
  },
  {
   "cell_type": "code",
   "execution_count": 16,
   "id": "28190fca",
   "metadata": {},
   "outputs": [
    {
     "name": "stdout",
     "output_type": "stream",
     "text": [
      "Auto MPG (6 variables) dataset\n",
      "\n",
      "The data concerns city-cycle fuel consumption in miles per gallon (Mpg), to be predicted in terms of 1 multivalued discrete and 5 continuous attributes (two multivalued discrete attributes (Cylinders and Origin) from the original dataset (autoMPG6) are removed).\n",
      "\n",
      "This dataset is a slightly modified version of the dataset provided in the StatLib library. In line with the use by Ross Quinlan (1993) in predicting the attribute Mpg, 6 of the original instances were removed because they had unknown values for the Mpg attribute.\n",
      "\n",
      "Downloaded from openml.org.\n"
     ]
    }
   ],
   "source": [
    "print(mls.DESCR)"
   ]
  },
  {
   "cell_type": "code",
   "execution_count": 13,
   "id": "29b57da9",
   "metadata": {},
   "outputs": [],
   "source": [
    "import matplotlib as plt"
   ]
  },
  {
   "cell_type": "code",
   "execution_count": 19,
   "id": "896722fd",
   "metadata": {},
   "outputs": [],
   "source": [
    "import numpy as np"
   ]
  },
  {
   "cell_type": "code",
   "execution_count": 25,
   "id": "93cd97ed",
   "metadata": {},
   "outputs": [
    {
     "ename": "AttributeError",
     "evalue": "loc",
     "output_type": "error",
     "traceback": [
      "\u001b[1;31m---------------------------------------------------------------------------\u001b[0m",
      "\u001b[1;31mKeyError\u001b[0m                                  Traceback (most recent call last)",
      "File \u001b[1;32mC:\\Program Files\\conda\\lib\\site-packages\\sklearn\\utils\\__init__.py:117\u001b[0m, in \u001b[0;36mBunch.__getattr__\u001b[1;34m(self, key)\u001b[0m\n\u001b[0;32m    116\u001b[0m \u001b[38;5;28;01mtry\u001b[39;00m:\n\u001b[1;32m--> 117\u001b[0m     \u001b[38;5;28;01mreturn\u001b[39;00m \u001b[38;5;28;43mself\u001b[39;49m\u001b[43m[\u001b[49m\u001b[43mkey\u001b[49m\u001b[43m]\u001b[49m\n\u001b[0;32m    118\u001b[0m \u001b[38;5;28;01mexcept\u001b[39;00m \u001b[38;5;167;01mKeyError\u001b[39;00m:\n",
      "\u001b[1;31mKeyError\u001b[0m: 'loc'",
      "\nDuring handling of the above exception, another exception occurred:\n",
      "\u001b[1;31mAttributeError\u001b[0m                            Traceback (most recent call last)",
      "Input \u001b[1;32mIn [25]\u001b[0m, in \u001b[0;36m<cell line: 1>\u001b[1;34m()\u001b[0m\n\u001b[1;32m----> 1\u001b[0m \u001b[43mmls\u001b[49m\u001b[38;5;241;43m.\u001b[39;49m\u001b[43mloc\u001b[49m[\u001b[38;5;241m2\u001b[39m]\n",
      "File \u001b[1;32mC:\\Program Files\\conda\\lib\\site-packages\\sklearn\\utils\\__init__.py:119\u001b[0m, in \u001b[0;36mBunch.__getattr__\u001b[1;34m(self, key)\u001b[0m\n\u001b[0;32m    117\u001b[0m     \u001b[38;5;28;01mreturn\u001b[39;00m \u001b[38;5;28mself\u001b[39m[key]\n\u001b[0;32m    118\u001b[0m \u001b[38;5;28;01mexcept\u001b[39;00m \u001b[38;5;167;01mKeyError\u001b[39;00m:\n\u001b[1;32m--> 119\u001b[0m     \u001b[38;5;28;01mraise\u001b[39;00m \u001b[38;5;167;01mAttributeError\u001b[39;00m(key)\n",
      "\u001b[1;31mAttributeError\u001b[0m: loc"
     ]
    }
   ],
   "source": [
    "mls.loc[2]"
   ]
  },
  {
   "cell_type": "code",
   "execution_count": null,
   "id": "ba3ff5b3",
   "metadata": {},
   "outputs": [],
   "source": []
  }
 ],
 "metadata": {
  "kernelspec": {
   "display_name": "Python 3 (ipykernel)",
   "language": "python",
   "name": "python3"
  },
  "language_info": {
   "codemirror_mode": {
    "name": "ipython",
    "version": 3
   },
   "file_extension": ".py",
   "mimetype": "text/x-python",
   "name": "python",
   "nbconvert_exporter": "python",
   "pygments_lexer": "ipython3",
   "version": "3.9.12"
  }
 },
 "nbformat": 4,
 "nbformat_minor": 5
}
